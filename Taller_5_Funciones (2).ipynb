{
 "cells": [
  {
   "cell_type": "markdown",
   "id": "66beb5a1",
   "metadata": {},
   "source": [
    "# Fundamentos de Programación para Ingeniería Mecánica\n",
    "## UPB Montería - 202310\n",
    "### Taller 5: Funciones y Estructuras de Datos\n",
    "- Docente: Miguel Ortiz (miguel.ortizp@upb.edu.co)"
   ]
  },
  {
   "cell_type": "markdown",
   "id": "b4381f55",
   "metadata": {},
   "source": [
    "Datos del Estudiante:\n",
    "- Nombre: diego alejandro uribe ochoa\n",
    "- ID: 000526333\n",
    "- email:diego.uribeo@upb.edu.co"
   ]
  },
  {
   "cell_type": "markdown",
   "id": "433f35a0",
   "metadata": {},
   "source": [
    "> Resuelva los siguientes ejercicios utilizando **Funciones, Listas y Diccionarios**."
   ]
  },
  {
   "cell_type": "code",
   "execution_count": null,
   "id": "73f53d8d",
   "metadata": {},
   "outputs": [],
   "source": []
  },
  {
   "cell_type": "markdown",
   "id": "aead929b",
   "metadata": {},
   "source": [
    "### Problema 1: Discurso Político (150xp)\n",
    "\n",
    "Diseñe el algoritmo y escriba un código en lenguaje de programación Python para generar discursos políticos aleatorios, teniendo en cuenta la siguiente imagen:\n",
    "\n",
    "![componentes de un discurso](discurso.png)\n",
    "\n",
    "Para ello, debe solicitar al usuario el nombre del candidato, un presupuesto general, y tres (3) porcentajes que representen los dineros que destinará a diferentes sectores seleccionados de forma aleatoria (lista de beneficio populista).\n",
    "\n",
    "Crea una función sin parámetros que retorne un string con el mensaje político. Dentro de la función deben aparecer los inputs para solicitar información al usuario. Guarda el mensaje creado por la función en una variable llamada `mensaje_politico` e imprime su valor en consola. \n",
    "\n",
    "**Ejemplo:**\n",
    "\n",
    "```\n",
    ">>> Entradas:\n",
    "Ingrese nombre del candidato: Chocolove McDonell\n",
    "Ingrese presupuesto (en millones de pesos): 1250\n",
    "Ingrese Porcentaje 1: 25\n",
    "Ingrese Porcentaje 2: 30\n",
    "Ingrese Porcentaje 3: 45\n",
    ">>> Salidas:\n",
    "Estimados copartidarios. \n",
    "Mi nombre es Chocolove McDonell y hoy vengo a decirles que, con su ayuda combatiré el desplazamiento y promoveré la educación de cada colombiano. Y es por eso que hoy he venido a proponerles invertir $1250.0 millones de pesos de la siguiente manera: \n",
    " - $312.5 millones de pesos en el empleo \n",
    " - $375.0 millones de pesos en la educación \n",
    " - $562.5 millones de pesos en la salud \n",
    "```\n",
    "\n",
    "**Nota:** para seleccionar un elemento aleatorio de una lista puede utilizar la función `choice()` de la librería random:\n",
    "\n",
    "```python\n",
    "import random\n",
    "random.choice([1, 2, 3])\n",
    "```\n",
    "\n",
    "**Recomendación:** cree las variables sin acento (tildes) y en minúsculas. "
   ]
  },
  {
   "cell_type": "code",
   "execution_count": 3,
   "id": "a78382aa",
   "metadata": {},
   "outputs": [
    {
     "ename": "SyntaxError",
     "evalue": "invalid syntax (1622313402.py, line 8)",
     "output_type": "error",
     "traceback": [
      "\u001b[1;36m  Cell \u001b[1;32mIn[3], line 8\u001b[1;36m\u001b[0m\n\u001b[1;33m    objetivo publico = {\"comaptriotas, compatriotas, coterraneo cuidadanos electores,\"}\u001b[0m\n\u001b[1;37m             ^\u001b[0m\n\u001b[1;31mSyntaxError\u001b[0m\u001b[1;31m:\u001b[0m invalid syntax\n"
     ]
    }
   ],
   "source": [
    "# problema numero 1\n",
    "\n",
    "print(\"ingrsar nombre\")\n",
    "print(\"ingresar porcentaje\")\n",
    "print(\"ingresar dineros\")\n",
    "\n",
    "titulo = {\"Queridos, apreciados, distinguidos, honorables, estimados y respetados\"}\n",
    "objetivo_publico = {\"comaptriotas, compatriotas, coterraneo cuidadanos electores,\"}\n",
    "condicion= {\"en mi gobierno,con su apoyo, siendo eligido,con su ayuda si me siguen durante mi mandato\"}\n",
    "compromiso = {\"voy a derrotar, vencere eliminare, acabare, luchare contra, combatire\"}\n",
    "ilusion_de_lucha = {\"la violencia y, la delincuencia y,la corrupcion y, la inflacion y la pobresay , el desplazamiento y\"}\n",
    "promesa = {\"trabajare por, garantizare,protegere, velare por, promovere,defendere \"}\n",
    "beneficio populista = {\"la educacion, el empleo,la saeguridad, la paz la igualdad y la salud\"}\n",
    "dependiendo de la cantidad de votos = {\"del pais, de la cuidad, y le de la comunidad, de la poblacion,para toda la gente, de cada colombiano\"}\n",
    "frase_1 = {\"si me elijen como presidente habra un nuevo cambio\"}\n",
    "frase_2 = {\"el cambio es de todos y para todos\"}\n",
    "\n",
    "\n",
    "Name input(ingrese el nombre del candidato)\n",
    "Name(\" diego alejandro uribe ochoa\")  \n",
    "prsupuento destinado(mil quinientos  millos de pesos): 1500\n",
    "Ingrese Porcentaje 1: 40\n",
    "Ingrese Porcentaje 2: 50\n",
    "Ingrese Porcentaje 3: 60\n",
    "\n",
    "\n",
    "input(\"dineros para emplos\")\n",
    "input(\"dineros para la educacion\")\n",
    "input(\"dienero parea la salud\")\n",
    "    \n",
    "if : $500 millones de pesos en el empleo \n",
    "if : $500 millones de pesos en la educación \n",
    "if : $500 millones de pesos en la salud \n",
    "\n",
    "    \n",
    "  import ramdon    \n",
    "    print(\"gracias por su tiempo, espero ganar gracias a ustedes\")\n",
    "    "
   ]
  },
  {
   "cell_type": "code",
   "execution_count": null,
   "id": "81812b6a",
   "metadata": {},
   "outputs": [],
   "source": []
  },
  {
   "cell_type": "code",
   "execution_count": null,
   "id": "f696d6e5",
   "metadata": {},
   "outputs": [],
   "source": []
  }
 ],
 "metadata": {
  "kernelspec": {
   "display_name": "Python 3 (ipykernel)",
   "language": "python",
   "name": "python3"
  },
  "language_info": {
   "codemirror_mode": {
    "name": "ipython",
    "version": 3
   },
   "file_extension": ".py",
   "mimetype": "text/x-python",
   "name": "python",
   "nbconvert_exporter": "python",
   "pygments_lexer": "ipython3",
   "version": "3.11.2"
  }
 },
 "nbformat": 4,
 "nbformat_minor": 5
}
